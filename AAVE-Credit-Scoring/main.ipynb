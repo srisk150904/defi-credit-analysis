{
 "cells": [
  {
   "cell_type": "code",
   "execution_count": 9,
   "id": "9cffc2f6",
   "metadata": {},
   "outputs": [],
   "source": [
    "# Step 1: Imports\n",
    "import pandas as pd\n",
    "import matplotlib.pyplot as plt\n",
    "from parse_data import load_json, parse_to_dataframe\n",
    "from feature_engineering import aggregate_wallet_features\n",
    "from model import train_model, score_wallets\n",
    "from utils import scale_score_to_range"
   ]
  },
  {
   "cell_type": "code",
   "execution_count": 10,
   "id": "6d818126",
   "metadata": {},
   "outputs": [
    {
     "name": "stdout",
     "output_type": "stream",
     "text": [
      " Sample Parsed Data:\n"
     ]
    },
    {
     "data": {
      "application/vnd.microsoft.datawrangler.viewer.v0+json": {
       "columns": [
        {
         "name": "index",
         "rawType": "int64",
         "type": "integer"
        },
        {
         "name": "wallet_address",
         "rawType": "object",
         "type": "string"
        },
        {
         "name": "action",
         "rawType": "object",
         "type": "string"
        },
        {
         "name": "timestamp",
         "rawType": "datetime64[ns]",
         "type": "datetime"
        },
        {
         "name": "amount",
         "rawType": "float64",
         "type": "float"
        },
        {
         "name": "asset",
         "rawType": "object",
         "type": "string"
        },
        {
         "name": "price_usd",
         "rawType": "float64",
         "type": "float"
        }
       ],
       "ref": "eca46e7c-d82c-4a59-9dd5-0b506251da4a",
       "rows": [
        [
         "0",
         "0x00000000001accfa9cef68cf5371a23025b6d4b6",
         "deposit",
         "2021-08-17 05:29:26",
         "2000000000.0",
         "USDC",
         "0.9938318274296356"
        ],
        [
         "1",
         "0x000000000051d07a4fb3bd10121a343d85818da6",
         "deposit",
         "2021-05-20 15:36:53",
         "1.45e+20",
         "WMATIC",
         "1.9703067611137424"
        ],
        [
         "2",
         "0x000000000096026fb41fc39f9875d164bd82e2dc",
         "deposit",
         "2021-07-24 09:28:33",
         "1000000000000000.0",
         "WMATIC",
         "0.9223772540040778"
        ],
        [
         "3",
         "0x000000000096026fb41fc39f9875d164bd82e2dc",
         "deposit",
         "2021-07-31 23:15:18",
         "4000000000000000.0",
         "WMATIC",
         "1.057483342538527"
        ],
        [
         "4",
         "0x0000000000e189dd664b9ab08a33c4839953852c",
         "redeemunderlying",
         "2021-04-19 15:25:07",
         "501548.0",
         "USDC",
         "1.0021296992988524"
        ]
       ],
       "shape": {
        "columns": 6,
        "rows": 5
       }
      },
      "text/html": [
       "<div>\n",
       "<style scoped>\n",
       "    .dataframe tbody tr th:only-of-type {\n",
       "        vertical-align: middle;\n",
       "    }\n",
       "\n",
       "    .dataframe tbody tr th {\n",
       "        vertical-align: top;\n",
       "    }\n",
       "\n",
       "    .dataframe thead th {\n",
       "        text-align: right;\n",
       "    }\n",
       "</style>\n",
       "<table border=\"1\" class=\"dataframe\">\n",
       "  <thead>\n",
       "    <tr style=\"text-align: right;\">\n",
       "      <th></th>\n",
       "      <th>wallet_address</th>\n",
       "      <th>action</th>\n",
       "      <th>timestamp</th>\n",
       "      <th>amount</th>\n",
       "      <th>asset</th>\n",
       "      <th>price_usd</th>\n",
       "    </tr>\n",
       "  </thead>\n",
       "  <tbody>\n",
       "    <tr>\n",
       "      <th>0</th>\n",
       "      <td>0x00000000001accfa9cef68cf5371a23025b6d4b6</td>\n",
       "      <td>deposit</td>\n",
       "      <td>2021-08-17 05:29:26</td>\n",
       "      <td>2.000000e+09</td>\n",
       "      <td>USDC</td>\n",
       "      <td>0.993832</td>\n",
       "    </tr>\n",
       "    <tr>\n",
       "      <th>1</th>\n",
       "      <td>0x000000000051d07a4fb3bd10121a343d85818da6</td>\n",
       "      <td>deposit</td>\n",
       "      <td>2021-05-20 15:36:53</td>\n",
       "      <td>1.450000e+20</td>\n",
       "      <td>WMATIC</td>\n",
       "      <td>1.970307</td>\n",
       "    </tr>\n",
       "    <tr>\n",
       "      <th>2</th>\n",
       "      <td>0x000000000096026fb41fc39f9875d164bd82e2dc</td>\n",
       "      <td>deposit</td>\n",
       "      <td>2021-07-24 09:28:33</td>\n",
       "      <td>1.000000e+15</td>\n",
       "      <td>WMATIC</td>\n",
       "      <td>0.922377</td>\n",
       "    </tr>\n",
       "    <tr>\n",
       "      <th>3</th>\n",
       "      <td>0x000000000096026fb41fc39f9875d164bd82e2dc</td>\n",
       "      <td>deposit</td>\n",
       "      <td>2021-07-31 23:15:18</td>\n",
       "      <td>4.000000e+15</td>\n",
       "      <td>WMATIC</td>\n",
       "      <td>1.057483</td>\n",
       "    </tr>\n",
       "    <tr>\n",
       "      <th>4</th>\n",
       "      <td>0x0000000000e189dd664b9ab08a33c4839953852c</td>\n",
       "      <td>redeemunderlying</td>\n",
       "      <td>2021-04-19 15:25:07</td>\n",
       "      <td>5.015480e+05</td>\n",
       "      <td>USDC</td>\n",
       "      <td>1.002130</td>\n",
       "    </tr>\n",
       "  </tbody>\n",
       "</table>\n",
       "</div>"
      ],
      "text/plain": [
       "                               wallet_address            action  \\\n",
       "0  0x00000000001accfa9cef68cf5371a23025b6d4b6           deposit   \n",
       "1  0x000000000051d07a4fb3bd10121a343d85818da6           deposit   \n",
       "2  0x000000000096026fb41fc39f9875d164bd82e2dc           deposit   \n",
       "3  0x000000000096026fb41fc39f9875d164bd82e2dc           deposit   \n",
       "4  0x0000000000e189dd664b9ab08a33c4839953852c  redeemunderlying   \n",
       "\n",
       "            timestamp        amount   asset  price_usd  \n",
       "0 2021-08-17 05:29:26  2.000000e+09    USDC   0.993832  \n",
       "1 2021-05-20 15:36:53  1.450000e+20  WMATIC   1.970307  \n",
       "2 2021-07-24 09:28:33  1.000000e+15  WMATIC   0.922377  \n",
       "3 2021-07-31 23:15:18  4.000000e+15  WMATIC   1.057483  \n",
       "4 2021-04-19 15:25:07  5.015480e+05    USDC   1.002130  "
      ]
     },
     "metadata": {},
     "output_type": "display_data"
    }
   ],
   "source": [
    "# Step 2: Load and Parse JSON\n",
    "file_path = \"data/user_transactions.json\"\n",
    "raw_data = load_json(file_path)\n",
    "df = parse_to_dataframe(raw_data)\n",
    "\n",
    "print(\" Sample Parsed Data:\")\n",
    "display(df.head())\n",
    "\n"
   ]
  },
  {
   "cell_type": "code",
   "execution_count": 11,
   "id": "df640ddf",
   "metadata": {},
   "outputs": [
    {
     "name": "stdout",
     "output_type": "stream",
     "text": [
      " Sample Engineered Features:\n"
     ]
    },
    {
     "data": {
      "application/vnd.microsoft.datawrangler.viewer.v0+json": {
       "columns": [
        {
         "name": "index",
         "rawType": "int64",
         "type": "integer"
        },
        {
         "name": "wallet_address",
         "rawType": "object",
         "type": "string"
        },
        {
         "name": "tx_count",
         "rawType": "int64",
         "type": "integer"
        },
        {
         "name": "num_deposits",
         "rawType": "int64",
         "type": "integer"
        },
        {
         "name": "num_borrows",
         "rawType": "int64",
         "type": "integer"
        },
        {
         "name": "num_repays",
         "rawType": "int64",
         "type": "integer"
        },
        {
         "name": "num_liquidations",
         "rawType": "int64",
         "type": "integer"
        },
        {
         "name": "total_usd",
         "rawType": "float64",
         "type": "float"
        },
        {
         "name": "avg_usd",
         "rawType": "float64",
         "type": "float"
        },
        {
         "name": "usd_stddev",
         "rawType": "float64",
         "type": "float"
        },
        {
         "name": "repay_borrow_ratio",
         "rawType": "float64",
         "type": "float"
        },
        {
         "name": "activity_duration_days",
         "rawType": "float64",
         "type": "float"
        },
        {
         "name": "tx_frequency",
         "rawType": "float64",
         "type": "float"
        },
        {
         "name": "avg_tx_usd",
         "rawType": "float64",
         "type": "float"
        }
       ],
       "ref": "d9bac64c-7652-4e1d-842a-7219598a8b70",
       "rows": [
        [
         "0",
         "0x00000000001accfa9cef68cf5371a23025b6d4b6",
         "1",
         "1",
         "0",
         "0",
         "0",
         "1987663654.8592713",
         "1987663654.8592713",
         null,
         "0.0",
         "0.0",
         "1.0",
         "1987663654.8592713"
        ],
        [
         "1",
         "0x000000000051d07a4fb3bd10121a343d85818da6",
         "1",
         "1",
         "0",
         "0",
         "0",
         "2.8569448036149264e+20",
         "2.8569448036149264e+20",
         null,
         "0.0",
         "0.0",
         "1.0",
         "2.8569448036149264e+20"
        ],
        [
         "2",
         "0x000000000096026fb41fc39f9875d164bd82e2dc",
         "2",
         "2",
         "0",
         "0",
         "0",
         "5152310624158186.0",
         "2576155312079093.0",
         "2338795358884726.5",
         "0.0",
         "7.574131944444445",
         "0.2640566621587549",
         "2576155312079093.0"
        ],
        [
         "3",
         "0x0000000000e189dd664b9ab08a33c4839953852c",
         "17",
         "0",
         "0",
         "0",
         "0",
         "9.803600316664595e+20",
         "5.766823715685056e+19",
         "1.5270617718867653e+20",
         "0.0",
         "129.3277662037037",
         "0.1314489571653419",
         "5.766823715685056e+19"
        ],
        [
         "4",
         "0x0000000002032370b971dabd36d72f3e5a7bf1ee",
         "399",
         "250",
         "15",
         "4",
         "0",
         "3.797494719848251e+23",
         "9.517530626186092e+20",
         "3.3602396384347533e+21",
         "0.26666666666666666",
         "132.8659027777778",
         "3.003027802154323",
         "9.517530626186092e+20"
        ]
       ],
       "shape": {
        "columns": 13,
        "rows": 5
       }
      },
      "text/html": [
       "<div>\n",
       "<style scoped>\n",
       "    .dataframe tbody tr th:only-of-type {\n",
       "        vertical-align: middle;\n",
       "    }\n",
       "\n",
       "    .dataframe tbody tr th {\n",
       "        vertical-align: top;\n",
       "    }\n",
       "\n",
       "    .dataframe thead th {\n",
       "        text-align: right;\n",
       "    }\n",
       "</style>\n",
       "<table border=\"1\" class=\"dataframe\">\n",
       "  <thead>\n",
       "    <tr style=\"text-align: right;\">\n",
       "      <th></th>\n",
       "      <th>wallet_address</th>\n",
       "      <th>tx_count</th>\n",
       "      <th>num_deposits</th>\n",
       "      <th>num_borrows</th>\n",
       "      <th>num_repays</th>\n",
       "      <th>num_liquidations</th>\n",
       "      <th>total_usd</th>\n",
       "      <th>avg_usd</th>\n",
       "      <th>usd_stddev</th>\n",
       "      <th>repay_borrow_ratio</th>\n",
       "      <th>activity_duration_days</th>\n",
       "      <th>tx_frequency</th>\n",
       "      <th>avg_tx_usd</th>\n",
       "    </tr>\n",
       "  </thead>\n",
       "  <tbody>\n",
       "    <tr>\n",
       "      <th>0</th>\n",
       "      <td>0x00000000001accfa9cef68cf5371a23025b6d4b6</td>\n",
       "      <td>1</td>\n",
       "      <td>1</td>\n",
       "      <td>0</td>\n",
       "      <td>0</td>\n",
       "      <td>0</td>\n",
       "      <td>1.987664e+09</td>\n",
       "      <td>1.987664e+09</td>\n",
       "      <td>NaN</td>\n",
       "      <td>0.000000</td>\n",
       "      <td>0.000000</td>\n",
       "      <td>1.000000</td>\n",
       "      <td>1.987664e+09</td>\n",
       "    </tr>\n",
       "    <tr>\n",
       "      <th>1</th>\n",
       "      <td>0x000000000051d07a4fb3bd10121a343d85818da6</td>\n",
       "      <td>1</td>\n",
       "      <td>1</td>\n",
       "      <td>0</td>\n",
       "      <td>0</td>\n",
       "      <td>0</td>\n",
       "      <td>2.856945e+20</td>\n",
       "      <td>2.856945e+20</td>\n",
       "      <td>NaN</td>\n",
       "      <td>0.000000</td>\n",
       "      <td>0.000000</td>\n",
       "      <td>1.000000</td>\n",
       "      <td>2.856945e+20</td>\n",
       "    </tr>\n",
       "    <tr>\n",
       "      <th>2</th>\n",
       "      <td>0x000000000096026fb41fc39f9875d164bd82e2dc</td>\n",
       "      <td>2</td>\n",
       "      <td>2</td>\n",
       "      <td>0</td>\n",
       "      <td>0</td>\n",
       "      <td>0</td>\n",
       "      <td>5.152311e+15</td>\n",
       "      <td>2.576155e+15</td>\n",
       "      <td>2.338795e+15</td>\n",
       "      <td>0.000000</td>\n",
       "      <td>7.574132</td>\n",
       "      <td>0.264057</td>\n",
       "      <td>2.576155e+15</td>\n",
       "    </tr>\n",
       "    <tr>\n",
       "      <th>3</th>\n",
       "      <td>0x0000000000e189dd664b9ab08a33c4839953852c</td>\n",
       "      <td>17</td>\n",
       "      <td>0</td>\n",
       "      <td>0</td>\n",
       "      <td>0</td>\n",
       "      <td>0</td>\n",
       "      <td>9.803600e+20</td>\n",
       "      <td>5.766824e+19</td>\n",
       "      <td>1.527062e+20</td>\n",
       "      <td>0.000000</td>\n",
       "      <td>129.327766</td>\n",
       "      <td>0.131449</td>\n",
       "      <td>5.766824e+19</td>\n",
       "    </tr>\n",
       "    <tr>\n",
       "      <th>4</th>\n",
       "      <td>0x0000000002032370b971dabd36d72f3e5a7bf1ee</td>\n",
       "      <td>399</td>\n",
       "      <td>250</td>\n",
       "      <td>15</td>\n",
       "      <td>4</td>\n",
       "      <td>0</td>\n",
       "      <td>3.797495e+23</td>\n",
       "      <td>9.517531e+20</td>\n",
       "      <td>3.360240e+21</td>\n",
       "      <td>0.266667</td>\n",
       "      <td>132.865903</td>\n",
       "      <td>3.003028</td>\n",
       "      <td>9.517531e+20</td>\n",
       "    </tr>\n",
       "  </tbody>\n",
       "</table>\n",
       "</div>"
      ],
      "text/plain": [
       "                               wallet_address  tx_count  num_deposits  \\\n",
       "0  0x00000000001accfa9cef68cf5371a23025b6d4b6         1             1   \n",
       "1  0x000000000051d07a4fb3bd10121a343d85818da6         1             1   \n",
       "2  0x000000000096026fb41fc39f9875d164bd82e2dc         2             2   \n",
       "3  0x0000000000e189dd664b9ab08a33c4839953852c        17             0   \n",
       "4  0x0000000002032370b971dabd36d72f3e5a7bf1ee       399           250   \n",
       "\n",
       "   num_borrows  num_repays  num_liquidations     total_usd       avg_usd  \\\n",
       "0            0           0                 0  1.987664e+09  1.987664e+09   \n",
       "1            0           0                 0  2.856945e+20  2.856945e+20   \n",
       "2            0           0                 0  5.152311e+15  2.576155e+15   \n",
       "3            0           0                 0  9.803600e+20  5.766824e+19   \n",
       "4           15           4                 0  3.797495e+23  9.517531e+20   \n",
       "\n",
       "     usd_stddev  repay_borrow_ratio  activity_duration_days  tx_frequency  \\\n",
       "0           NaN            0.000000                0.000000      1.000000   \n",
       "1           NaN            0.000000                0.000000      1.000000   \n",
       "2  2.338795e+15            0.000000                7.574132      0.264057   \n",
       "3  1.527062e+20            0.000000              129.327766      0.131449   \n",
       "4  3.360240e+21            0.266667              132.865903      3.003028   \n",
       "\n",
       "     avg_tx_usd  \n",
       "0  1.987664e+09  \n",
       "1  2.856945e+20  \n",
       "2  2.576155e+15  \n",
       "3  5.766824e+19  \n",
       "4  9.517531e+20  "
      ]
     },
     "metadata": {},
     "output_type": "display_data"
    }
   ],
   "source": [
    "# Step 3: Feature Engineering\n",
    "features_df = aggregate_wallet_features(df)\n",
    "\n",
    "print(\" Sample Engineered Features:\")\n",
    "display(features_df.head())\n",
    "\n"
   ]
  },
  {
   "cell_type": "code",
   "execution_count": 12,
   "id": "f5150194",
   "metadata": {},
   "outputs": [],
   "source": [
    "# Step 4: Train Model and Predict Raw Scores\n",
    "model = train_model(features_df)\n",
    "scored_df = score_wallets(model, features_df)"
   ]
  },
  {
   "cell_type": "code",
   "execution_count": 13,
   "id": "2c3342e3",
   "metadata": {},
   "outputs": [
    {
     "data": {
      "image/png": "[encoded data removed]",
      "text/plain": [
       "<Figure size 1000x600 with 1 Axes>"
      ]
     },
     "metadata": {},
     "output_type": "display_data"
    },
    {
     "name": "stdout",
     "output_type": "stream",
     "text": [
      "\n",
      " Credit Score Buckets:\n",
      "bucket\n",
      "0-100          1\n",
      "100-200        2\n",
      "200-300        2\n",
      "300-400        8\n",
      "400-500     2255\n",
      "500-600     1136\n",
      "600-700       68\n",
      "700-800       14\n",
      "800-900        8\n",
      "900-1000       2\n",
      "Name: count, dtype: int64\n"
     ]
    }
   ],
   "source": [
    "# Step 5: Plot Score Distribution\n",
    "plt.figure(figsize=(10, 6))\n",
    "plt.hist(scored_df['credit_score'], bins=20, color='skyblue', edgecolor='black')\n",
    "plt.title(\"Distribution of Wallet Credit Scores\")\n",
    "plt.xlabel(\"Score\")\n",
    "plt.ylabel(\"Number of Wallets\")\n",
    "plt.grid(True)\n",
    "plt.show()\n",
    "\n",
    "# Step 6: Save Output\n",
    "scored_df.to_csv(\"wallet_scores.csv\", index=False)\n",
    "\n",
    "# Step 7: Summary Buckets for analysis.md\n",
    "scored_df['bucket'] = pd.cut(\n",
    "    scored_df['credit_score'],\n",
    "    bins=[0, 100, 200, 300, 400, 500, 600, 700, 800, 900, 1000],\n",
    "    labels=[\"0-100\", \"100-200\", \"200-300\", \"300-400\", \"400-500\",\n",
    "            \"500-600\", \"600-700\", \"700-800\", \"800-900\", \"900-1000\"]\n",
    ")\n",
    "\n",
    "print(\"\\n Credit Score Buckets:\")\n",
    "print(scored_df['bucket'].value_counts().sort_index())\n"
   ]
  },
  {
   "cell_type": "code",
   "execution_count": 14,
   "id": "8a37915d",
   "metadata": {},
   "outputs": [
    {
     "name": "stdout",
     "output_type": "stream",
     "text": [
      "           tx_count  num_deposits  num_borrows   num_repays  num_liquidations  \\\n",
      "count   3497.000000   3497.000000  3497.000000  3497.000000       3497.000000   \n",
      "mean      28.595939     10.811553     4.885902     3.589648          0.070918   \n",
      "std      250.732075     29.868997    15.133573    13.374770          0.692889   \n",
      "min        1.000000      0.000000     0.000000     0.000000          0.000000   \n",
      "25%        1.000000      1.000000     0.000000     0.000000          0.000000   \n",
      "50%        3.000000      2.000000     0.000000     0.000000          0.000000   \n",
      "75%       16.000000      6.000000     3.000000     2.000000          0.000000   \n",
      "max    14265.000000    511.000000   200.000000   291.000000         26.000000   \n",
      "\n",
      "          total_usd       avg_usd    usd_stddev  repay_borrow_ratio  \\\n",
      "count  3.497000e+03  3.497000e+03  2.442000e+03         3497.000000   \n",
      "mean   3.337471e+23  6.056385e+21  1.115118e+22            0.357850   \n",
      "std    5.079090e+24  8.274197e+22  1.085026e+23            1.341881   \n",
      "min    9.236938e+01  9.236938e+01  0.000000e+00            0.000000   \n",
      "25%    2.404744e+14  1.588137e+13  7.122427e+16            0.000000   \n",
      "50%    4.981201e+18  1.802931e+18  6.943494e+19            0.000000   \n",
      "75%    4.256143e+21  2.712864e+20  1.086329e+21            0.530612   \n",
      "max    1.912249e+26  2.501390e+24  2.332537e+24           65.000000   \n",
      "\n",
      "       activity_duration_days   tx_frequency    avg_tx_usd  \n",
      "count             3497.000000    3497.000000  3.497000e+03  \n",
      "mean                21.874139     530.939098  6.056385e+21  \n",
      "std                 33.330024    7503.942952  8.274197e+22  \n",
      "min                  0.000000       0.020871  9.236938e+01  \n",
      "25%                  0.000000       0.492428  1.588137e+13  \n",
      "50%                  2.908391       1.000000  1.802931e+18  \n",
      "75%                 32.732234       2.000000  2.712864e+20  \n",
      "max                153.792407  432000.000000  2.501390e+24  \n"
     ]
    }
   ],
   "source": [
    "print(features_df.describe())"
   ]
  },
  {
   "cell_type": "code",
   "execution_count": 15,
   "id": "8c06491a",
   "metadata": {},
   "outputs": [
    {
     "data": {
      "image/png": "[encoded data removed]",
      "text/plain": [
       "<Figure size 1000x600 with 1 Axes>"
      ]
     },
     "metadata": {},
     "output_type": "display_data"
    },
    {
     "name": "stdout",
     "output_type": "stream",
     "text": [
      " Credit Score Buckets:\n",
      "bucket\n",
      "(0, 100]          1\n",
      "(100, 200]        2\n",
      "(200, 300]        2\n",
      "(300, 400]        8\n",
      "(400, 500]     2255\n",
      "(500, 600]     1136\n",
      "(600, 700]       68\n",
      "(700, 800]       14\n",
      "(800, 900]        8\n",
      "(900, 1000]       2\n",
      "Name: count, dtype: int64\n",
      "\n",
      "-------- Lowest Scoring Wallets ----------------------------------------------------\n",
      "                                  wallet_address  credit_score  num_deposits  \\\n",
      "2473  0x04426a58fdd02eb166b7c1a84ef390c4987ae1e0             0            17   \n",
      "1574  0x02a16f8df2b11b3a0c9f47cc5d705830792e3e6f            10           111   \n",
      "1730  0x02eb2ee0867dc3dfaa3862d0cc86984b6aada907           145            12   \n",
      "\n",
      "      repay_borrow_ratio     total_usd  activity_duration_days  \n",
      "2473            0.290323  2.165380e+22                6.464201  \n",
      "1574            0.666667  8.195273e+21               51.467558  \n",
      "1730            0.222222  9.335780e+21               30.167025  \n",
      "\n",
      "-------- Median Scoring Wallets ------------------------------------------------\n",
      "                                  wallet_address  credit_score  num_deposits  \\\n",
      "3478  0x060ff445d1232bae747fc927899dc2b59331a484           494             2   \n",
      "3424  0x05f4ccfe7747aa083954f54c6c67e93882c6428c           494             2   \n",
      "22    0x00016fc0c9f7620e920e1423fd455f9574f48025           494             2   \n",
      "\n",
      "      repay_borrow_ratio     total_usd  activity_duration_days  \n",
      "3478                 0.0  1.126758e+18                6.024502  \n",
      "3424                 0.0  2.023073e+18                6.021597  \n",
      "22                   0.0  3.145759e+18                1.641678  \n",
      "\n",
      "--------- Highest Scoring Wallets ---------------------------------------------------\n",
      "                                  wallet_address  credit_score  num_deposits  \\\n",
      "259   0x005f16f017aa933bb41965b52848ceb8ee48b171           865           328   \n",
      "2793  0x04d9f6ecd792e48a09fa5dc2138baed8e628a7e5           934           411   \n",
      "2571  0x0476f3ee277eb20568ee2369b337f3ce55bc558a          1000           511   \n",
      "\n",
      "      repay_borrow_ratio     total_usd  activity_duration_days  \n",
      "259             0.595628  5.867154e+22              153.792407  \n",
      "2793            1.634831  5.184041e+22               81.149306  \n",
      "2571            0.775701  7.740204e+24              130.308391  \n"
     ]
    }
   ],
   "source": [
    "from evaluate import plot_score_distribution, print_bucket_summary, show_wallet_examples\n",
    "\n",
    "# `scored_df` is your credit score output\n",
    "# `features_df` is your full engineered feature set\n",
    "\n",
    "plot_score_distribution(scored_df)\n",
    "print_bucket_summary(scored_df)\n",
    "show_wallet_examples(scored_df, features_df)\n"
   ]
  },
  {
   "cell_type": "code",
   "execution_count": null,
   "id": "4df39e4f",
   "metadata": {},
   "outputs": [],
   "source": []
  },
  {
   "cell_type": "code",
   "execution_count": null,
   "id": "c1c9a2ac",
   "metadata": {},
   "outputs": [],
   "source": []
  }
 ],
 "metadata": {
  "kernelspec": {
   "display_name": "venv_cluster",
   "language": "python",
   "name": "python3"
  },
  "language_info": {
   "codemirror_mode": {
    "name": "ipython",
    "version": 3
   },
   "file_extension": ".py",
   "mimetype": "text/x-python",
   "name": "python",
   "nbconvert_exporter": "python",
   "pygments_lexer": "ipython3",
   "version": "3.10.7"
  }
 },
 "nbformat": 4,
 "nbformat_minor": 5
}
